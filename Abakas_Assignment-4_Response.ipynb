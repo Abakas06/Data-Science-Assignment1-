{
 "cells": [
  {
   "cell_type": "code",
   "execution_count": 2,
   "id": "f993b143",
   "metadata": {},
   "outputs": [],
   "source": [
    "# Import required libraries\n",
    "import numpy as np                  #data handling\n",
    "import pandas as pd  \n",
    "\n",
    "import math\n",
    "import scipy.stats as st            #Statistics\n",
    "\n",
    "import matplotlib.pyplot as plt     #Visualization\n"
   ]
  },
  {
   "cell_type": "code",
   "execution_count": 3,
   "id": "86d16458",
   "metadata": {},
   "outputs": [],
   "source": [
    "import seaborn as sns"
   ]
  },
  {
   "cell_type": "code",
   "execution_count": 7,
   "id": "cc95cf0d",
   "metadata": {},
   "outputs": [
    {
     "data": {
      "text/html": [
       "<div>\n",
       "<style scoped>\n",
       "    .dataframe tbody tr th:only-of-type {\n",
       "        vertical-align: middle;\n",
       "    }\n",
       "\n",
       "    .dataframe tbody tr th {\n",
       "        vertical-align: top;\n",
       "    }\n",
       "\n",
       "    .dataframe thead th {\n",
       "        text-align: right;\n",
       "    }\n",
       "</style>\n",
       "<table border=\"1\" class=\"dataframe\">\n",
       "  <thead>\n",
       "    <tr style=\"text-align: right;\">\n",
       "      <th></th>\n",
       "      <th>Person</th>\n",
       "      <th>Rating</th>\n",
       "    </tr>\n",
       "  </thead>\n",
       "  <tbody>\n",
       "    <tr>\n",
       "      <th>0</th>\n",
       "      <td>1</td>\n",
       "      <td>100</td>\n",
       "    </tr>\n",
       "    <tr>\n",
       "      <th>13</th>\n",
       "      <td>14</td>\n",
       "      <td>58</td>\n",
       "    </tr>\n",
       "    <tr>\n",
       "      <th>51</th>\n",
       "      <td>52</td>\n",
       "      <td>92</td>\n",
       "    </tr>\n",
       "    <tr>\n",
       "      <th>11</th>\n",
       "      <td>12</td>\n",
       "      <td>86</td>\n",
       "    </tr>\n",
       "    <tr>\n",
       "      <th>15</th>\n",
       "      <td>16</td>\n",
       "      <td>86</td>\n",
       "    </tr>\n",
       "  </tbody>\n",
       "</table>\n",
       "</div>"
      ],
      "text/plain": [
       "    Person  Rating\n",
       "0        1     100\n",
       "13      14      58\n",
       "51      52      92\n",
       "11      12      86\n",
       "15      16      86"
      ]
     },
     "execution_count": 7,
     "metadata": {},
     "output_type": "execute_result"
    }
   ],
   "source": [
    "# Lets read the file \n",
    "Beer_taste = pd.read_excel(\"Q5_Beer_Taste.xlsx\")\n",
    "Beer_taste.sample(5)"
   ]
  },
  {
   "cell_type": "code",
   "execution_count": 8,
   "id": "e7eeba5c",
   "metadata": {},
   "outputs": [
    {
     "data": {
      "text/html": [
       "<div>\n",
       "<style scoped>\n",
       "    .dataframe tbody tr th:only-of-type {\n",
       "        vertical-align: middle;\n",
       "    }\n",
       "\n",
       "    .dataframe tbody tr th {\n",
       "        vertical-align: top;\n",
       "    }\n",
       "\n",
       "    .dataframe thead th {\n",
       "        text-align: right;\n",
       "    }\n",
       "</style>\n",
       "<table border=\"1\" class=\"dataframe\">\n",
       "  <thead>\n",
       "    <tr style=\"text-align: right;\">\n",
       "      <th></th>\n",
       "      <th>Person</th>\n",
       "      <th>Rating</th>\n",
       "    </tr>\n",
       "  </thead>\n",
       "  <tbody>\n",
       "    <tr>\n",
       "      <th>count</th>\n",
       "      <td>60.000000</td>\n",
       "      <td>60.00000</td>\n",
       "    </tr>\n",
       "    <tr>\n",
       "      <th>mean</th>\n",
       "      <td>30.500000</td>\n",
       "      <td>79.75000</td>\n",
       "    </tr>\n",
       "    <tr>\n",
       "      <th>std</th>\n",
       "      <td>17.464249</td>\n",
       "      <td>14.50263</td>\n",
       "    </tr>\n",
       "    <tr>\n",
       "      <th>min</th>\n",
       "      <td>1.000000</td>\n",
       "      <td>48.00000</td>\n",
       "    </tr>\n",
       "    <tr>\n",
       "      <th>25%</th>\n",
       "      <td>15.750000</td>\n",
       "      <td>70.00000</td>\n",
       "    </tr>\n",
       "    <tr>\n",
       "      <th>50%</th>\n",
       "      <td>30.500000</td>\n",
       "      <td>81.50000</td>\n",
       "    </tr>\n",
       "    <tr>\n",
       "      <th>75%</th>\n",
       "      <td>45.250000</td>\n",
       "      <td>91.25000</td>\n",
       "    </tr>\n",
       "    <tr>\n",
       "      <th>max</th>\n",
       "      <td>60.000000</td>\n",
       "      <td>100.00000</td>\n",
       "    </tr>\n",
       "  </tbody>\n",
       "</table>\n",
       "</div>"
      ],
      "text/plain": [
       "          Person     Rating\n",
       "count  60.000000   60.00000\n",
       "mean   30.500000   79.75000\n",
       "std    17.464249   14.50263\n",
       "min     1.000000   48.00000\n",
       "25%    15.750000   70.00000\n",
       "50%    30.500000   81.50000\n",
       "75%    45.250000   91.25000\n",
       "max    60.000000  100.00000"
      ]
     },
     "execution_count": 8,
     "metadata": {},
     "output_type": "execute_result"
    }
   ],
   "source": [
    "Beer_taste.describe()"
   ]
  },
  {
   "cell_type": "code",
   "execution_count": 9,
   "id": "79a9f004",
   "metadata": {},
   "outputs": [
    {
     "name": "stdout",
     "output_type": "stream",
     "text": [
      "N: 60\n",
      "Mean rating: 79.75  Std. dev rating: 14.502629802433788\n"
     ]
    }
   ],
   "source": [
    "# Step 2 : Find the mean and variance \n",
    "print(\"N:\", Beer_taste.shape[0])\n",
    "\n",
    "mean = Beer_taste.Rating.mean()\n",
    "sd = Beer_taste.Rating.std()\n",
    "print(\"Mean rating:\", mean, \" Std. dev rating:\", sd)"
   ]
  },
  {
   "cell_type": "markdown",
   "id": "86b44e4a",
   "metadata": {},
   "source": [
    "Mean(u) = 79.75\n",
    "std = 14.50 n = 60 alpha = 0.05 x_bar = 76"
   ]
  },
  {
   "cell_type": "code",
   "execution_count": 16,
   "id": "2c5f66d8",
   "metadata": {},
   "outputs": [
    {
     "name": "stdout",
     "output_type": "stream",
     "text": [
      "One-Sample left-tailed Z-test of true mean\n",
      "--------------------------------------------------------------------------------------\n",
      "Approach 1: The p-value approach to hypothesis testing in the decision rule\n",
      "Since sample size >= 30, by CLT \n",
      "z-score is: -2.003267248038319  and p value is: 0.022574305476423032\n",
      "Null Hypothesis is rejected.\n"
     ]
    }
   ],
   "source": [
    "x_bar = 76\n",
    "u = 79.75\n",
    "sigma = 14.50\n",
    "n = 60\n",
    "alpha = 0.05\n",
    "# Null Hypothesis H0 <= 76 (Left tailed Test)\n",
    "# Alternate Hypothesis Ha > 76 \n",
    "\n",
    "\n",
    "# possible types \"right-tailed, left-tailed, two-tailed\"\n",
    "tail_hypothesis_type = \"left-tailed\"\n",
    "\n",
    "if tail_hypothesis_type == \"two-tailed\":\n",
    "    alpha /= 2\n",
    "\n",
    "print(\"One-Sample\", tail_hypothesis_type, \"Z-test of true mean\")\n",
    "print(\"--------------------------------------------------------------------------------------\")\n",
    "# The p-value approach\n",
    "print(\"Approach 1: The p-value approach to hypothesis testing in the decision rule\")\n",
    "if n >= 30:\n",
    "    print(\"Since sample size >= 30, by CLT \")\n",
    "    z_score = (x_bar - u)/(sigma/math.sqrt(n))\n",
    "    p_value = st.norm.cdf(z_score)\n",
    "    if p_value <= alpha:\n",
    "        conclusion = \"Null Hypothesis is rejected.\"\n",
    "        \n",
    "    print(\"z-score is:\", z_score, \" and p value is:\", p_value)\n",
    "    print(conclusion)\n"
   ]
  },
  {
   "cell_type": "markdown",
   "id": "7fe8a28d",
   "metadata": {},
   "source": [
    "# Conclusion to Question Number-4 is : Using a 5% significance level, there is no sufficient evidence to conclude that beer will be a success"
   ]
  },
  {
   "cell_type": "markdown",
   "id": "fd314a53",
   "metadata": {},
   "source": [
    "# Question Number.5"
   ]
  },
  {
   "cell_type": "code",
   "execution_count": 14,
   "id": "6eb25d99",
   "metadata": {},
   "outputs": [
    {
     "data": {
      "text/html": [
       "<div>\n",
       "<style scoped>\n",
       "    .dataframe tbody tr th:only-of-type {\n",
       "        vertical-align: middle;\n",
       "    }\n",
       "\n",
       "    .dataframe tbody tr th {\n",
       "        vertical-align: top;\n",
       "    }\n",
       "\n",
       "    .dataframe thead th {\n",
       "        text-align: right;\n",
       "    }\n",
       "</style>\n",
       "<table border=\"1\" class=\"dataframe\">\n",
       "  <thead>\n",
       "    <tr style=\"text-align: right;\">\n",
       "      <th></th>\n",
       "      <th>Consumer</th>\n",
       "      <th>Gender</th>\n",
       "      <th>Age</th>\n",
       "      <th>Preference</th>\n",
       "    </tr>\n",
       "  </thead>\n",
       "  <tbody>\n",
       "    <tr>\n",
       "      <th>174</th>\n",
       "      <td>175</td>\n",
       "      <td>F</td>\n",
       "      <td>Less than 20</td>\n",
       "      <td>Our brand</td>\n",
       "    </tr>\n",
       "    <tr>\n",
       "      <th>70</th>\n",
       "      <td>71</td>\n",
       "      <td>F</td>\n",
       "      <td>Over 60</td>\n",
       "      <td>Competing brand</td>\n",
       "    </tr>\n",
       "    <tr>\n",
       "      <th>74</th>\n",
       "      <td>75</td>\n",
       "      <td>F</td>\n",
       "      <td>Between 40 and 60</td>\n",
       "      <td>Our brand</td>\n",
       "    </tr>\n",
       "    <tr>\n",
       "      <th>142</th>\n",
       "      <td>143</td>\n",
       "      <td>F</td>\n",
       "      <td>Between 40 and 60</td>\n",
       "      <td>Competing brand</td>\n",
       "    </tr>\n",
       "    <tr>\n",
       "      <th>117</th>\n",
       "      <td>118</td>\n",
       "      <td>F</td>\n",
       "      <td>Between 20 and 40</td>\n",
       "      <td>Competing brand</td>\n",
       "    </tr>\n",
       "  </tbody>\n",
       "</table>\n",
       "</div>"
      ],
      "text/plain": [
       "     Consumer Gender                Age       Preference\n",
       "174       175      F       Less than 20        Our brand\n",
       "70         71      F            Over 60  Competing brand\n",
       "74         75      F  Between 40 and 60        Our brand\n",
       "142       143      F  Between 40 and 60  Competing brand\n",
       "117       118      F  Between 20 and 40  Competing brand"
      ]
     },
     "execution_count": 14,
     "metadata": {},
     "output_type": "execute_result"
    }
   ],
   "source": [
    "# Lets read the file \n",
    "Lowcalorie_Drink = pd.read_excel(\"Q6_LowcalorieDrink.xlsx\")\n",
    "Lowcalorie_Drink.sample(5)"
   ]
  },
  {
   "cell_type": "code",
   "execution_count": 15,
   "id": "cbf494c8",
   "metadata": {},
   "outputs": [
    {
     "data": {
      "text/html": [
       "<div>\n",
       "<style scoped>\n",
       "    .dataframe tbody tr th:only-of-type {\n",
       "        vertical-align: middle;\n",
       "    }\n",
       "\n",
       "    .dataframe tbody tr th {\n",
       "        vertical-align: top;\n",
       "    }\n",
       "\n",
       "    .dataframe thead th {\n",
       "        text-align: right;\n",
       "    }\n",
       "</style>\n",
       "<table border=\"1\" class=\"dataframe\">\n",
       "  <thead>\n",
       "    <tr style=\"text-align: right;\">\n",
       "      <th></th>\n",
       "      <th>Consumer</th>\n",
       "    </tr>\n",
       "  </thead>\n",
       "  <tbody>\n",
       "    <tr>\n",
       "      <th>count</th>\n",
       "      <td>250.000000</td>\n",
       "    </tr>\n",
       "    <tr>\n",
       "      <th>mean</th>\n",
       "      <td>125.500000</td>\n",
       "    </tr>\n",
       "    <tr>\n",
       "      <th>std</th>\n",
       "      <td>72.312977</td>\n",
       "    </tr>\n",
       "    <tr>\n",
       "      <th>min</th>\n",
       "      <td>1.000000</td>\n",
       "    </tr>\n",
       "    <tr>\n",
       "      <th>25%</th>\n",
       "      <td>63.250000</td>\n",
       "    </tr>\n",
       "    <tr>\n",
       "      <th>50%</th>\n",
       "      <td>125.500000</td>\n",
       "    </tr>\n",
       "    <tr>\n",
       "      <th>75%</th>\n",
       "      <td>187.750000</td>\n",
       "    </tr>\n",
       "    <tr>\n",
       "      <th>max</th>\n",
       "      <td>250.000000</td>\n",
       "    </tr>\n",
       "  </tbody>\n",
       "</table>\n",
       "</div>"
      ],
      "text/plain": [
       "         Consumer\n",
       "count  250.000000\n",
       "mean   125.500000\n",
       "std     72.312977\n",
       "min      1.000000\n",
       "25%     63.250000\n",
       "50%    125.500000\n",
       "75%    187.750000\n",
       "max    250.000000"
      ]
     },
     "execution_count": 15,
     "metadata": {},
     "output_type": "execute_result"
    }
   ],
   "source": [
    "Lowcalorie_Drink.describe()"
   ]
  },
  {
   "cell_type": "code",
   "execution_count": null,
   "id": "9f2d1440",
   "metadata": {},
   "outputs": [],
   "source": [
    "# n = 250\n",
    "# alpha = 0.05\n"
   ]
  },
  {
   "cell_type": "code",
   "execution_count": 17,
   "id": "2c49e914",
   "metadata": {},
   "outputs": [
    {
     "data": {
      "text/plain": [
       "<bound method DataFrame.info of      Consumer Gender                Age       Preference\n",
       "0           1      F            Over 60        Our brand\n",
       "1           2      F  Between 40 and 60        Our brand\n",
       "2           3      M  Between 40 and 60        Our brand\n",
       "3           4      F            Over 60  Competing brand\n",
       "4           5      M  Between 20 and 40        Our brand\n",
       "..        ...    ...                ...              ...\n",
       "245       246      M  Between 40 and 60  Competing brand\n",
       "246       247      F  Between 20 and 40  Competing brand\n",
       "247       248      F  Between 40 and 60        Our brand\n",
       "248       249      M  Between 20 and 40  Competing brand\n",
       "249       250      M            Over 60  Competing brand\n",
       "\n",
       "[250 rows x 4 columns]>"
      ]
     },
     "execution_count": 17,
     "metadata": {},
     "output_type": "execute_result"
    }
   ],
   "source": [
    "Lowcalorie_Drink.info"
   ]
  },
  {
   "cell_type": "code",
   "execution_count": 18,
   "id": "9428e173",
   "metadata": {},
   "outputs": [
    {
     "data": {
      "text/html": [
       "<div>\n",
       "<style scoped>\n",
       "    .dataframe tbody tr th:only-of-type {\n",
       "        vertical-align: middle;\n",
       "    }\n",
       "\n",
       "    .dataframe tbody tr th {\n",
       "        vertical-align: top;\n",
       "    }\n",
       "\n",
       "    .dataframe thead tr th {\n",
       "        text-align: left;\n",
       "    }\n",
       "\n",
       "    .dataframe thead tr:last-of-type th {\n",
       "        text-align: right;\n",
       "    }\n",
       "</style>\n",
       "<table border=\"1\" class=\"dataframe\">\n",
       "  <thead>\n",
       "    <tr>\n",
       "      <th></th>\n",
       "      <th>Consumer</th>\n",
       "      <th>Gender</th>\n",
       "      <th>Age</th>\n",
       "    </tr>\n",
       "    <tr>\n",
       "      <th></th>\n",
       "      <th>count</th>\n",
       "      <th>count</th>\n",
       "      <th>count</th>\n",
       "    </tr>\n",
       "    <tr>\n",
       "      <th>Preference</th>\n",
       "      <th></th>\n",
       "      <th></th>\n",
       "      <th></th>\n",
       "    </tr>\n",
       "  </thead>\n",
       "  <tbody>\n",
       "    <tr>\n",
       "      <th>Competing brand</th>\n",
       "      <td>116</td>\n",
       "      <td>116</td>\n",
       "      <td>116</td>\n",
       "    </tr>\n",
       "    <tr>\n",
       "      <th>Our brand</th>\n",
       "      <td>134</td>\n",
       "      <td>134</td>\n",
       "      <td>134</td>\n",
       "    </tr>\n",
       "  </tbody>\n",
       "</table>\n",
       "</div>"
      ],
      "text/plain": [
       "                Consumer Gender   Age\n",
       "                   count  count count\n",
       "Preference                           \n",
       "Competing brand      116    116   116\n",
       "Our brand            134    134   134"
      ]
     },
     "execution_count": 18,
     "metadata": {},
     "output_type": "execute_result"
    }
   ],
   "source": [
    "Lowcalorie_Drink.groupby('Preference').agg([\"count\"])"
   ]
  },
  {
   "cell_type": "code",
   "execution_count": 21,
   "id": "443e3df9",
   "metadata": {},
   "outputs": [
    {
     "name": "stdout",
     "output_type": "stream",
     "text": [
      "competing brand: 0.464 and our brand is: 0.536\n"
     ]
    }
   ],
   "source": [
    "n = 250\n",
    "alpha = 0.05\n",
    "competing_brand = 116/250 \n",
    "our_brand = 134/250\n",
    "\n",
    "print(\"competing brand:\", competing_brand, \"and our brand is:\", our_brand)"
   ]
  },
  {
   "cell_type": "code",
   "execution_count": 22,
   "id": "b4ce7460",
   "metadata": {},
   "outputs": [
    {
     "name": "stdout",
     "output_type": "stream",
     "text": [
      "Since n*competing_brand >= 5 and n*(1-competing_brand) >= 5, by CLT \n",
      "Z-score: -2.2827645292576846\n"
     ]
    }
   ],
   "source": [
    "if n*competing_brand >= 5 and n*(1-competing_brand) >= 5:\n",
    "    print(\"Since n*competing_brand >= 5 and n*(1-competing_brand) >= 5, by CLT \")\n",
    "    z_score = (competing_brand - our_brand)/math.sqrt((our_brand*(1-our_brand))/n)\n",
    "    print(\"Z-score:\", z_score)"
   ]
  },
  {
   "cell_type": "code",
   "execution_count": 25,
   "id": "06338455",
   "metadata": {},
   "outputs": [
    {
     "name": "stdout",
     "output_type": "stream",
     "text": [
      "P Value 0.011222121201274693\n"
     ]
    }
   ],
   "source": [
    "# As H0 >= 125 and Ha <125 (left Tailed)\n",
    "p_value = st.norm.cdf(z_score)\n",
    "print(\"P Value\", p_value)"
   ]
  },
  {
   "cell_type": "markdown",
   "id": "c0a4c04b",
   "metadata": {},
   "source": [
    "##As P value is less than alpha (0.05), we can reject the null hypothesis, so with the 95% confidence level, the claim by Market Manager is proved wrong."
   ]
  }
 ],
 "metadata": {
  "kernelspec": {
   "display_name": "Python 3 (ipykernel)",
   "language": "python",
   "name": "python3"
  },
  "language_info": {
   "codemirror_mode": {
    "name": "ipython",
    "version": 3
   },
   "file_extension": ".py",
   "mimetype": "text/x-python",
   "name": "python",
   "nbconvert_exporter": "python",
   "pygments_lexer": "ipython3",
   "version": "3.9.12"
  }
 },
 "nbformat": 4,
 "nbformat_minor": 5
}
